{
 "cells": [
  {
   "cell_type": "markdown",
   "metadata": {},
   "source": [
    "# Python4CLS database 101\n",
    "This is a short introduction to the python libraries used to interact with CLS's databases (called `Tables de mesures`).\n",
    "We suppose here that you already have a basic theoretical knowledge about what is a table, and what kind of info is stored in these databases.\n",
    "\n",
    "This will hopefully provide a short cheatsheet for accessing tables from a Python script.\n"
   ]
  },
  {
   "cell_type": "code",
   "execution_count": 2,
   "metadata": {},
   "outputs": [],
   "source": [
    "# generic imports\n",
    "import numpy as np\n",
    "import os\n",
    "import glob\n",
    "\n",
    "# octant imports\n",
    "from octant.data.orf import Orf\n",
    "from octant.data.table import TableMeasure"
   ]
  },
  {
   "cell_type": "code",
   "execution_count": 3,
   "metadata": {},
   "outputs": [
    {
     "name": "stdout",
     "output_type": "stream",
     "text": [
      "/work/ALT/peachi/commun/data/TABLES/DSC\n"
     ]
    }
   ],
   "source": [
    "# checking the value of variable $GES_TABLE_DIR\n",
    "print(os.environ['GES_TABLE_DIR'])"
   ]
  },
  {
   "cell_type": "markdown",
   "metadata": {},
   "source": [
    "## manipulation of Orf objects\n",
    "Orf objects are used to convert from cycle/pass numbering to actual times (and the other way around).\n",
    "Tables are indexed by times, and this intermediate step is needed when you are working in cycle/pass numbers. "
   ]
  },
  {
   "cell_type": "code",
   "execution_count": 4,
   "metadata": {},
   "outputs": [
    {
     "name": "stdout",
     "output_type": "stream",
     "text": [
      "/work/ALT/peachi/commun/data/TABLES/DSC/T_AL_ORF.dat\n",
      "/work/ALT/peachi/commun/data/TABLES/DSC/T_C2_ORF.dat\n",
      "/work/ALT/peachi/commun/data/TABLES/DSC/T_HAL_ORF.dat\n",
      "/work/ALT/peachi/commun/data/TABLES/DSC/T_HC2_ORF.dat\n",
      "/work/ALT/peachi/commun/data/TABLES/DSC/T_HJ2_ORF.dat\n",
      "/work/ALT/peachi/commun/data/TABLES/DSC/T_HJ3_ORF.dat\n",
      "/work/ALT/peachi/commun/data/TABLES/DSC/T_HS3A_ORF.dat\n",
      "/work/ALT/peachi/commun/data/TABLES/DSC/T_J2_ORF.dat\n",
      "/work/ALT/peachi/commun/data/TABLES/DSC/T_J3_ORF.dat\n"
     ]
    }
   ],
   "source": [
    "# which ORF files are available\n",
    "l_orf = sorted(glob.glob(\"%s/*ORF*\" %os.environ['GES_TABLE_DIR']))\n",
    "for i in l_orf:\n",
    "    print(i)"
   ]
  },
  {
   "cell_type": "code",
   "execution_count": 5,
   "metadata": {},
   "outputs": [
    {
     "name": "stdout",
     "output_type": "stream",
     "text": [
      "<type 'octant.data.orf.Orf'>\n"
     ]
    },
    {
     "data": {
      "text/plain": [
       "['__class__',\n",
       " '__delattr__',\n",
       " '__doc__',\n",
       " '__format__',\n",
       " '__getattribute__',\n",
       " '__hash__',\n",
       " '__init__',\n",
       " '__new__',\n",
       " '__reduce__',\n",
       " '__reduce_ex__',\n",
       " '__repr__',\n",
       " '__setattr__',\n",
       " '__sizeof__',\n",
       " '__str__',\n",
       " '__subclasshook__',\n",
       " '_set_mission',\n",
       " 'close',\n",
       " 'create',\n",
       " 'delete_track_info',\n",
       " 'exists',\n",
       " 'find_track_from_date',\n",
       " 'find_track_from_indices',\n",
       " 'first_cycle',\n",
       " 'get_dates_of_cycle',\n",
       " 'identifier',\n",
       " 'last_cycle',\n",
       " 'mission',\n",
       " 'mode',\n",
       " 'passes_per_cycle',\n",
       " 'set_mission',\n",
       " 'version',\n",
       " 'write_track']"
      ]
     },
     "execution_count": 5,
     "metadata": {},
     "output_type": "execute_result"
    }
   ],
   "source": [
    "# lets open one the SARAL/AltiKa [AL] CalVal [C] orf\n",
    "orf = Orf('T_AL')\n",
    "print(type(orf))\n",
    "dir(orf)"
   ]
  },
  {
   "cell_type": "code",
   "execution_count": 6,
   "metadata": {},
   "outputs": [
    {
     "name": "stdout",
     "output_type": "stream",
     "text": [
      "mission: AL\n",
      "passes per cycle: 1002\n"
     ]
    }
   ],
   "source": [
    "# accessing object attributes\n",
    "print(\"mission: %s\" %orf.mission)\n",
    "print(\"passes per cycle: %s\" %orf.passes_per_cycle)"
   ]
  },
  {
   "cell_type": "code",
   "execution_count": 7,
   "metadata": {},
   "outputs": [
    {
     "name": "stdout",
     "output_type": "stream",
     "text": [
      "<type 'octant.data.orf.OrfTrack'>\n"
     ]
    }
   ],
   "source": [
    "# selecting a track knowing its pass/cycle number \n",
    "track = orf.find_track_from_indices(10,1)\n",
    "print(type(track))"
   ]
  },
  {
   "cell_type": "code",
   "execution_count": 8,
   "metadata": {},
   "outputs": [
    {
     "data": {
      "text/plain": [
       "['__class__',\n",
       " '__delattr__',\n",
       " '__doc__',\n",
       " '__format__',\n",
       " '__getattribute__',\n",
       " '__hash__',\n",
       " '__init__',\n",
       " '__new__',\n",
       " '__pyx_vtable__',\n",
       " '__reduce__',\n",
       " '__reduce_ex__',\n",
       " '__repr__',\n",
       " '__setattr__',\n",
       " '__sizeof__',\n",
       " '__str__',\n",
       " '__subclasshook__',\n",
       " 'cycle_number',\n",
       " 'equator_date',\n",
       " 'equator_longitude',\n",
       " 'first_date',\n",
       " 'first_latitude',\n",
       " 'first_longitude',\n",
       " 'last_date',\n",
       " 'last_latitude',\n",
       " 'last_longitude',\n",
       " 'pass_number']"
      ]
     },
     "execution_count": 8,
     "metadata": {},
     "output_type": "execute_result"
    }
   ],
   "source": [
    "# the method returns an OrfTrack object, which has its methods/attributes\n",
    "dir(track)"
   ]
  },
  {
   "cell_type": "code",
   "execution_count": 9,
   "metadata": {},
   "outputs": [
    {
     "name": "stdout",
     "output_type": "stream",
     "text": [
      "cycle: 10 / pass: 1\n"
     ]
    }
   ],
   "source": [
    "# lets check that we've extracted the right track\n",
    "print(\"cycle: %s / pass: %s\" %(track.cycle_number, track.pass_number))"
   ]
  },
  {
   "cell_type": "code",
   "execution_count": 10,
   "metadata": {},
   "outputs": [
    {
     "name": "stdout",
     "output_type": "stream",
     "text": [
      "from 2014-01-23 05:38:26.584208 to 2014-01-23 06:28:44.198222\n"
     ]
    }
   ],
   "source": [
    "# when is that ?\n",
    "start_date = track.first_date\n",
    "stop_date = track.last_date\n",
    "print(\"from %s to %s\" %(start_date, stop_date))"
   ]
  },
  {
   "cell_type": "code",
   "execution_count": 11,
   "metadata": {},
   "outputs": [
    {
     "name": "stdout",
     "output_type": "stream",
     "text": [
      "<class 'octant.date.Datetime'>\n"
     ]
    },
    {
     "data": {
      "text/plain": [
       "['__add__',\n",
       " '__class__',\n",
       " '__delattr__',\n",
       " '__dict__',\n",
       " '__doc__',\n",
       " '__eq__',\n",
       " '__format__',\n",
       " '__ge__',\n",
       " '__getattribute__',\n",
       " '__gt__',\n",
       " '__hash__',\n",
       " '__init__',\n",
       " '__le__',\n",
       " '__lt__',\n",
       " '__module__',\n",
       " '__ne__',\n",
       " '__new__',\n",
       " '__radd__',\n",
       " '__reduce__',\n",
       " '__reduce_ex__',\n",
       " '__repr__',\n",
       " '__rsub__',\n",
       " '__setattr__',\n",
       " '__sizeof__',\n",
       " '__str__',\n",
       " '__sub__',\n",
       " '__subclasshook__',\n",
       " '__weakref__',\n",
       " 'astimezone',\n",
       " 'ceil',\n",
       " 'combine',\n",
       " 'ctime',\n",
       " 'date',\n",
       " 'day',\n",
       " 'dst',\n",
       " 'floor',\n",
       " 'fromdate',\n",
       " 'fromdatetime',\n",
       " 'fromjulianday',\n",
       " 'fromordinal',\n",
       " 'fromtimestamp',\n",
       " 'hour',\n",
       " 'isocalendar',\n",
       " 'isoformat',\n",
       " 'isoweekday',\n",
       " 'julianday',\n",
       " 'max',\n",
       " 'microsecond',\n",
       " 'min',\n",
       " 'minute',\n",
       " 'month',\n",
       " 'now',\n",
       " 'replace',\n",
       " 'resolution',\n",
       " 'second',\n",
       " 'span',\n",
       " 'strftime',\n",
       " 'strptime',\n",
       " 'time',\n",
       " 'timestamp',\n",
       " 'timetuple',\n",
       " 'timetz',\n",
       " 'to',\n",
       " 'today',\n",
       " 'toordinal',\n",
       " 'tzinfo',\n",
       " 'tzname',\n",
       " 'utcfromtimestamp',\n",
       " 'utcnow',\n",
       " 'utcoffset',\n",
       " 'utctimetuple',\n",
       " 'weekday',\n",
       " 'year']"
      ]
     },
     "execution_count": 11,
     "metadata": {},
     "output_type": "execute_result"
    }
   ],
   "source": [
    "# beware: dates are octant.date.Datetime objects, not standard python datetime\n",
    "print(type(start_date))\n",
    "dir(start_date)"
   ]
  },
  {
   "cell_type": "markdown",
   "metadata": {},
   "source": [
    "## accessing the table\n",
    "Now that we know the period of interest, we are actually going to read from the table."
   ]
  },
  {
   "cell_type": "code",
   "execution_count": 12,
   "metadata": {},
   "outputs": [
    {
     "name": "stdout",
     "output_type": "stream",
     "text": [
      "/work/ALT/peachi/commun/data/TABLES/DSC/TABLE_T_AL_B_PEACHI.dsc\n",
      "/work/ALT/peachi/commun/data/TABLES/DSC/TABLE_T_HAL_B_PEACHI.dsc\n"
     ]
    }
   ],
   "source": [
    "# list available descriptors\n",
    "# remember that we have used a SARAL/AltiKa orf, so to be consistent, we select a SARAL/AltiKa table\n",
    "l_tables = sorted(glob.glob(\"%(GES_TABLE_DIR)s/TABLE_*AL*.dsc\" %os.environ))\n",
    "for i in l_tables:\n",
    "    print(i)"
   ]
  },
  {
   "cell_type": "code",
   "execution_count": 13,
   "metadata": {},
   "outputs": [
    {
     "name": "stdout",
     "output_type": "stream",
     "text": [
      "<type 'octant.data.table.TableMeasure'>\n"
     ]
    }
   ],
   "source": [
    "# create the table object\n",
    "table = TableMeasure(\"TABLE_T_AL_B_PEACHI\")\n",
    "print(type(table))"
   ]
  },
  {
   "cell_type": "code",
   "execution_count": 14,
   "metadata": {},
   "outputs": [
    {
     "name": "stdout",
     "output_type": "stream",
     "text": [
      "containing 231 fields\n",
      "[u'AGC.ALTI', u'AGC_NUMBER.ALTI', u'AGC_STD.ALTI', u'ATMOSPHERIC_ATTENUATION_SIGMA0.ALTI', u'ATMOSPHERIC_ATTENUATION_SIGMA0.ALTI.PLRM', u'ATMOSPHERIC_ATTENUATION_SIGMA0.MODEL.ECMWF_DIRECT', u'ATMOSPHERIC_TEMPERATURE_LAPSE_RATE_GAMMA.MODEL.ECMWF', u'BATHYMETRY.MODEL', u'BF_FLUCTUATIONS_CORRECTION.MODEL.ECMWF_GAUSS_NO_S1S2', u'BRIGHTNESS_TEMPERATURE.RAD.CHANNEL02', u'BRIGHTNESS_TEMPERATURE.RAD.CHANNEL03', u'CENTER_OF_GRAVITY_CORRECTION', u'CLOUD_LIQUID_WATER_CONTENT.RAD', u'COASTAL_APPROACH_ANGLE.MODEL.GSHHS', u'CYCLE_NUMBER', u'DISTANCE_SHORELINE.MODEL.ABSOLUTE', u'DISTANCE_SHORELINE.MODEL.GSHHS', u'DOPPLER_CORRECTION.ALTI', u'DRY_TROPOSPHERIC_CORRECTION.MODEL.ECMWF_DIRECT', u'DRY_TROPOSPHERIC_CORRECTION.MODEL.ECMWF_GAUSS', u'DYNAMICAL_ATMOSPHERIC_CORRECTION.MODEL.MOG2D_HR', u'ELLIPSOID_REF_CORRECTION.ALTI', u'FLAG_ICE.ALTI', u'FLAG_ITER_SSH.ALTI.RTK_BAGP3', u'FLAG_ITER_SSH.ALTI.RTK_ICENEW', u'FLAG_ITER_SSH.ALTI.RTK_MLE2P', u'FLAG_ITER_SSH.ALTI.RTK_MLE4', u'FLAG_ITER_SSH.ALTI.RTK_NUM4', u'FLAG_ITER_SSH.ALTI.RTK_RED3', u'FLAG_LAND_SEA.RAD', u'FLAG_OFF_NADIR_ANGLE_WF.ALTI.RTK_NUM4', u'FLAG_ORBIT.ALTI.DIODE', u'FLAG_QUAL.ALTI.NET_INSTR_CORR_RANGE', u'FLAG_QUAL.ALTI.NET_INSTR_CORR_SIGMA0', u'FLAG_QUAL.ALTI.NET_INSTR_CORR_SWH', u'FLAG_QUAL.ALTI.OFF_NADIR_ANGLE_WF_B1', u'FLAG_QUAL.ALTI.RANGE_B1', u'FLAG_QUAL.ALTI.SIG0_B1', u'FLAG_QUAL.ALTI.SWH_B1', u'FLAG_QUAL.RAD.BRIGHT_TEMP_CHANNEL02', u'FLAG_QUAL.RAD.BRIGHT_TEMP_CHANNEL03', u'FLAG_QUAL.RAD.INTERP_CHANNEL02', u'FLAG_QUAL.RAD.INTERP_CHANNEL03', u'FLAG_RAIN.ALTI', u'FLAG_RAIN.RAD', u'FLAG_RANGE.ALTI', u'FLAG_RANGE.ALTI.RTK_ADAPTIVE', u'FLAG_RANGE.ALTI.RTK_BAGP3', u'FLAG_RANGE.ALTI.RTK_ICENEW', u'FLAG_RANGE.ALTI.RTK_MLE2P', u'FLAG_RANGE.ALTI.RTK_MLE3', u'FLAG_RANGE.ALTI.RTK_NUM4', u'FLAG_RANGE.ALTI.RTK_RED3', u'FLAG_SIG0.ALTI', u'FLAG_SIG0.ALTI.RTK_ADAPTIVE', u'FLAG_SIG0.ALTI.RTK_BAGP3', u'FLAG_SIG0.ALTI.RTK_ICENEW', u'FLAG_SIG0.ALTI.RTK_MLE3', u'FLAG_SIG0.ALTI.RTK_NUM4', u'FLAG_SIG0.ALTI.RTK_RED3', u'FLAG_SSB.ALTI.3D', u'FLAG_SURFACE_TYPE', u'FLAG_SWH.ALTI', u'FLAG_SWH.ALTI.RTK_ADAPTIVE', u'FLAG_SWH.ALTI.RTK_BAGP3', u'FLAG_SWH.ALTI.RTK_ICENEW', u'FLAG_SWH.ALTI.RTK_MLE3', u'FLAG_SWH.ALTI.RTK_NUM4', u'FLAG_SWH.ALTI.RTK_RED3', u'FLAG_TRAILING_EDGE_VARIATION.ALTI', u'GEOID_HEIGHT', u'GEOID_HEIGHT.MODEL.EGM2008', u'HF_FLUCTUATIONS_CORRECTION.MODEL.ECMWF', u'INTERNAL_PATH_DELAY_CORRECTION.ALTI', u'IONOSPHERIC_CORRECTION.MODEL.GIM', u'LATITUDE', u'LOAD_TIDE.MODEL.GOT4V8', u'LONGITUDE', u'MAP_ATT_FO_CARRE_NUM4', u'MAP_DALT_BAGP3', u'MAP_DALT_ICENEW', u'MAP_DALT_MLE2P', u'MAP_DALT_MLE3', u'MAP_DALT_NUM4', u'MAP_DALT_RED3', u'MAP_SIG0_BAGP3', u'MAP_SIG0_ICENEW', u'MAP_SIG0_MLE3', u'MAP_SIG0_NUM4', u'MAP_SIG0_RED3', u'MAP_SWH_BAGP3', u'MAP_SWH_ICENEW', u'MAP_SWH_MLE3', u'MAP_SWH_NUM4', u'MAP_SWH_RED3', u'MEAN_DYNAMIC_TOPOGRAPHY.MODEL.CNESCLS09', u'MEAN_QUADRATIC_ERROR.ALTI.RTK_ADAPTIVE', u'MEAN_SEA_SURFACE.MODEL.CNESCLS11', u'MEAN_SEA_SURFACE.MODEL.CNESCLS15', u'MEAN_SEA_SURFACE.MODEL.DTU10', u'MEAN_SEA_SURFACE.MODEL.DTU15', u'MEAN_SEA_SURFACE_ACCURACY.MODEL.CNESCLS15', u'MEAN_SEA_SURFACE_ACCURACY.MODEL.DTU15', u'MEAN_WAVE_PERIOD.MODEL.WW3', u'OCEAN_TIDE_EQ_LP.MODEL', u'OCEAN_TIDE_HEIGHT', u'OCEAN_TIDE_HEIGHT.MODEL.DTU10', u'OCEAN_TIDE_HEIGHT.MODEL.FES12', u'OCEAN_TIDE_HEIGHT.MODEL.FES14', u'OCEAN_TIDE_HEIGHT.MODEL.GOT4V10', u'OCEAN_TIDE_HEIGHT.MODEL.GOT4V8', u'OCEAN_TIDE_NEQ_LP.MODEL', u'ORBIT.ALTI', u'ORBIT.ALTI.MOE_C', u'ORBITAL_ALTITUDE_RATE.ALTI', u'PASS_NUMBER', u'POLE_TIDE_HEIGHT.MODEL.DESAI_2015', u'POLE_TIDE_HEIGHT.MODEL.WAHR_85', u'RAINFALL_RATE', u'RAINFALL_RATE_TIME_LAG', u'RANGE.ALTI', u'RANGE.ALTI.RTK_ADAPTIVE', u'RANGE.ALTI.RTK_BAGP3', u'RANGE.ALTI.RTK_ICENEW', u'RANGE.ALTI.RTK_MLE2P', u'RANGE.ALTI.RTK_MLE3', u'RANGE.ALTI.RTK_NUM4', u'RANGE.ALTI.RTK_RED3', u'RANGE_MODELED_INSTRUMENTAL_CORRECTION.ALTI', u'RANGE_MODELED_INSTRUMENTAL_CORRECTION.ALTI.RTK_MLE3', u'RANGE_MODELED_INSTRUMENTAL_CORRECTION.ALTI.RTK_NUM4', u'RANGE_NET_INSTRUMENTAL_CORRECTION.ALTI', u'RANGE_NET_INSTRUMENTAL_CORRECTION.ALTI.RTK_NUM', u'RANGE_NUMBER.ALTI', u'RANGE_NUMBER.ALTI.RTK_ADAPTIVE', u'RANGE_NUMBER.ALTI.RTK_BAGP3', u'RANGE_NUMBER.ALTI.RTK_ICENEW', u'RANGE_NUMBER.ALTI.RTK_MLE2P', u'RANGE_NUMBER.ALTI.RTK_MLE3', u'RANGE_NUMBER.ALTI.RTK_NUM4', u'RANGE_NUMBER.ALTI.RTK_RED3', u'RANGE_STD.ALTI', u'RANGE_STD.ALTI.RTK_ADAPTIVE', u'RANGE_STD.ALTI.RTK_BAGP3', u'RANGE_STD.ALTI.RTK_ICENEW', u'RANGE_STD.ALTI.RTK_MLE2P', u'RANGE_STD.ALTI.RTK_MLE3', u'RANGE_STD.ALTI.RTK_NUM4', u'RANGE_STD.ALTI.RTK_RED3', u'SEA_ICE_FRACTION', u'SEA_ICE_FRACTION.MODEL.OSISAF', u'SEA_LEVEL_ANOMALY.ALTI.RTK_BAGP3', u'SEA_LEVEL_ANOMALY.ALTI.RTK_ICENEW', u'SEA_LEVEL_ANOMALY.ALTI.RTK_MLE2P', u'SEA_LEVEL_ANOMALY.ALTI.RTK_NUM4', u'SEA_LEVEL_ANOMALY.ALTI.RTK_OCE3', u'SEA_LEVEL_ANOMALY.ALTI.RTK_RED3', u'SEA_STATE_BIAS.ALTI.NON_PARAMETRIC', u'SEA_STATE_BIAS.MODEL.3D', u'SEA_SURFACE_HEIGHT_ANOMALY.ALTI', u'SEA_SURFACE_TEMPERATURE.MODEL.REYNOLDS', u'SIGMA0.ALTI', u'SIGMA0.ALTI.PLRM', u'SIGMA0.ALTI.RTK_ADAPTIVE', u'SIGMA0.ALTI.RTK_BAGP3', u'SIGMA0.ALTI.RTK_ICENEW', u'SIGMA0.ALTI.RTK_MLE3', u'SIGMA0.ALTI.RTK_NUM4', u'SIGMA0.ALTI.RTK_RED3', u'SIGMA0_INTERNAL_CALIBRATION.ALTI', u'SIGMA0_MODELED_INSTRUMENTAL_CORRECTION.ALTI', u'SIGMA0_MODELED_INSTRUMENTAL_CORRECTION.ALTI.RTK_MLE3', u'SIGMA0_MODELED_INSTRUMENTAL_CORRECTION.ALTI.RTK_NUM4', u'SIGMA0_NET_INSTRUMENTAL_CORRECTION.ALTI', u'SIGMA0_NET_INSTRUMENTAL_CORRECTION.ALTI.RTK_MLE3', u'SIGMA0_NET_INSTRUMENTAL_CORRECTION.ALTI.RTK_NUM4', u'SIGMA0_NUMBER.ALTI', u'SIGMA0_NUMBER.ALTI.RTK_ADAPTIVE', u'SIGMA0_NUMBER.ALTI.RTK_BAGP3', u'SIGMA0_NUMBER.ALTI.RTK_ICENEW', u'SIGMA0_NUMBER.ALTI.RTK_MLE3', u'SIGMA0_NUMBER.ALTI.RTK_NUM4', u'SIGMA0_NUMBER.ALTI.RTK_RED3', u'SIGMA0_STD.ALTI', u'SIGMA0_STD.ALTI.RTK_ADAPTIVE', u'SIGMA0_STD.ALTI.RTK_BAGP3', u'SIGMA0_STD.ALTI.RTK_ICENEW', u'SIGMA0_STD.ALTI.RTK_MLE3', u'SIGMA0_STD.ALTI.RTK_NUM4', u'SIGMA0_STD.ALTI.RTK_RED3', u'SIGNAL_NOISE_RATIO', u'SOLID_EARTH_TIDE_HEIGHT.MODEL.CARTWRIGHT_TAYLER_71', u'SQUARE_OFF_NADIR_ANGLE.ALTI', u'SQUARE_OFF_NADIR_ANGLE.ALTI.RTK_NUM4', u'SQUARE_OFF_NADIR_ANGLE.PLATFORM', u'SQUARE_OFF_NADIR_ANGLE_NUMBER.ALTI.RTK_NUM4', u'SQUARE_OFF_NADIR_ANGLE_STD.ALTI.RTK_NUM4', u'SWH.ALTI', u'SWH.ALTI.RTK_ADAPTIVE', u'SWH.ALTI.RTK_BAGP3', u'SWH.ALTI.RTK_ICENEW', u'SWH.ALTI.RTK_MLE3', u'SWH.ALTI.RTK_NUM4', u'SWH.ALTI.RTK_RED3', u'SWH_MODELED_INSTRUMENTAL_CORRECTION.ALTI', u'SWH_MODELED_INSTRUMENTAL_CORRECTION.ALTI.RTK_MLE3', u'SWH_MODELED_INSTRUMENTAL_CORRECTION.ALTI.RTK_NUM4', u'SWH_NET_INSTRUMENTAL_CORRECTION.ALTI', u'SWH_NET_INSTRUMENTAL_CORRECTION.ALTI.RTK_NUM4', u'SWH_NUMBER.ALTI', u'SWH_NUMBER.ALTI.RTK_ADAPTIVE', u'SWH_NUMBER.ALTI.RTK_BAGP3', u'SWH_NUMBER.ALTI.RTK_ICENEW', u'SWH_NUMBER.ALTI.RTK_MLE3', u'SWH_NUMBER.ALTI.RTK_NUM4', u'SWH_NUMBER.ALTI.RTK_RED3', u'SWH_STD.ALTI', u'SWH_STD.ALTI.RTK_ADAPTIVE', u'SWH_STD.ALTI.RTK_BAGP3', u'SWH_STD.ALTI.RTK_ICENEW', u'SWH_STD.ALTI.RTK_MLE3', u'SWH_STD.ALTI.RTK_NUM4', u'SWH_STD.ALTI.RTK_RED3', u'USO_DRIFT_CORRECTION.ALTI', u'WATER_VAPOR_CONTENT.RAD', u'WET_TROPOSPHERIC_CORRECTION.MODEL.ECMWF_DIRECT', u'WET_TROPOSPHERIC_CORRECTION.MODEL.ECMWF_GAUSS', u'WET_TROPOSPHERIC_CORRECTION.RAD', u'WIND_SPEED.ALTI', u'WIND_SPEED.MODEL.U_COMP', u'WIND_SPEED.MODEL.V_COMP']\n"
     ]
    }
   ],
   "source": [
    "# list fields in the table\n",
    "print(\"containing %s fields\" %len(table.fields.names))\n",
    "print(table.fields.names)"
   ]
  },
  {
   "cell_type": "markdown",
   "metadata": {},
   "source": [
    "### reading one measurement at a time\n",
    "May be useful sometimes, but clearly not the most widely used, however this is how things happen under the hood."
   ]
  },
  {
   "cell_type": "code",
   "execution_count": 15,
   "metadata": {},
   "outputs": [
    {
     "name": "stdout",
     "output_type": "stream",
     "text": [
      "None\n"
     ]
    }
   ],
   "source": [
    "# when initializing a table the pointer is not set, whe need to set it to the right position\n",
    "print(table.date)"
   ]
  },
  {
   "cell_type": "code",
   "execution_count": 16,
   "metadata": {},
   "outputs": [
    {
     "name": "stdout",
     "output_type": "stream",
     "text": [
      "2014-01-23 05:38:26.584208\n",
      "(23398, 20306, 584208)\n"
     ]
    }
   ],
   "source": [
    "table.find_next_date(start_date)\n",
    "print(table.date)\n",
    "print(table.date_tuple)"
   ]
  },
  {
   "cell_type": "code",
   "execution_count": 17,
   "metadata": {},
   "outputs": [
    {
     "data": {
      "text/plain": [
       "1.589"
      ]
     },
     "execution_count": 17,
     "metadata": {},
     "output_type": "execute_result"
    }
   ],
   "source": [
    "# lets read SWH for example\n",
    "table.fields['SWH.ALTI'].value"
   ]
  },
  {
   "cell_type": "code",
   "execution_count": 18,
   "metadata": {},
   "outputs": [
    {
     "name": "stdout",
     "output_type": "stream",
     "text": [
      "2014-01-23 05:38:26.584208: 1.589\n",
      "2014-01-23 05:38:27.648129: 1.144\n",
      "2014-01-23 05:38:28.712048: 1.293\n",
      "2014-01-23 05:38:29.775969: 1.16\n",
      "2014-01-23 05:38:30.839888: 1.395\n",
      "2014-01-23 05:38:31.903809: 1.573\n",
      "2014-01-23 05:38:32.967728: 0.811\n",
      "2014-01-23 05:38:34.031649: 1.054\n",
      "2014-01-23 05:38:35.095568: 2.174\n",
      "2014-01-23 05:38:36.159488: 1.267\n"
     ]
    }
   ],
   "source": [
    "# now if we want the ten next measurements\n",
    "for i in range(10):\n",
    "    t = table.date\n",
    "    v = table.fields['SWH.ALTI'].value\n",
    "    print(\"%s: %s\" %(t,v))\n",
    "    table.next_date() "
   ]
  },
  {
   "cell_type": "code",
   "execution_count": 19,
   "metadata": {},
   "outputs": [
    {
     "name": "stdout",
     "output_type": "stream",
     "text": [
      "(23398, 20306, 584208): 1.589\n",
      "(23398, 20307, 648129): 1.144\n",
      "(23398, 20308, 712048): 1.293\n",
      "(23398, 20309, 775969): 1.16\n",
      "(23398, 20310, 839888): 1.395\n",
      "(23398, 20311, 903809): 1.573\n",
      "(23398, 20312, 967728): 0.811\n",
      "(23398, 20314, 31649): 1.054\n",
      "(23398, 20315, 95568): 2.174\n",
      "(23398, 20316, 159488): 1.267\n"
     ]
    }
   ],
   "source": [
    "# or over the ten next seconds,\n",
    "# this is NOT equivalent to the above\n",
    "from octant.date import Timedelta\n",
    "table.find_next_date(start_date)\n",
    "for t in table.iterate(table.date, table.date + Timedelta.parse('10 s')):\n",
    "    v = table.fields['SWH.ALTI'].value\n",
    "    print(\"%s: %s\" %(t,v))"
   ]
  },
  {
   "cell_type": "code",
   "execution_count": 20,
   "metadata": {},
   "outputs": [
    {
     "name": "stdout",
     "output_type": "stream",
     "text": [
      "[((23398, 20306, 584208), 1.589)\n",
      " ((23398, 20307, 648129), 1.1440000000000001)\n",
      " ((23398, 20308, 712048), 1.293) ((23398, 20309, 775969), 1.16)\n",
      " ((23398, 20310, 839888), 1.395) ((23398, 20311, 903809), 1.573)\n",
      " ((23398, 20312, 967728), 0.811) ((23398, 20314, 31649), 1.054)\n",
      " ((23398, 20315, 95568), 2.174)\n",
      " ((23398, 20316, 159488), 1.2670000000000001)]\n"
     ]
    }
   ],
   "source": [
    "# or extract the whole time period at once\n",
    "table.find_next_date(start_date)\n",
    "data = table.read_values([\"SWH.ALTI\"], table.date, table.date + Timedelta.parse('10 s'))\n",
    "print(data)"
   ]
  },
  {
   "cell_type": "code",
   "execution_count": null,
   "metadata": {},
   "outputs": [],
   "source": []
  }
 ],
 "metadata": {
  "kernelspec": {
   "display_name": "Python 2",
   "language": "python",
   "name": "python2"
  },
  "language_info": {
   "codemirror_mode": {
    "name": "ipython",
    "version": 2
   },
   "file_extension": ".py",
   "mimetype": "text/x-python",
   "name": "python",
   "nbconvert_exporter": "python",
   "pygments_lexer": "ipython2",
   "version": "2.7.11"
  }
 },
 "nbformat": 4,
 "nbformat_minor": 2
}
