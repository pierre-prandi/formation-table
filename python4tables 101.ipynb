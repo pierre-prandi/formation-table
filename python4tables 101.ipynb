{
 "cells": [
  {
   "cell_type": "markdown",
   "metadata": {},
   "source": [
    "# Python4CLS database 101\n",
    "This is a short introduction to the python libraries used to interact with CLS's databases (called `Tables de mesures`).\n",
    "We suppose here that you already have a basic theoretical knowledge about what is a table, and what kind of info is stored in these databases.\n",
    "\n",
    "This will hopefully provide a short cheatsheet for accessing tables from a Python script.\n"
   ]
  },
  {
   "cell_type": "code",
   "execution_count": 11,
   "metadata": {},
   "outputs": [],
   "source": [
    "# generic imports\n",
    "import numpy as np\n",
    "import pandas as pd\n",
    "import os\n",
    "import glob\n",
    "\n",
    "# octant imports\n",
    "from octant.data.orf import Orf\n",
    "from octant.data.table import TableMeasure"
   ]
  },
  {
   "cell_type": "code",
   "execution_count": 12,
   "metadata": {},
   "outputs": [
    {
     "name": "stdout",
     "output_type": "stream",
     "text": [
      "/data/pprandi/TABLES/DSC\n"
     ]
    }
   ],
   "source": [
    "# checking the value of variable $GES_TABLE_DIR\n",
    "print(os.environ['GES_TABLE_DIR'])"
   ]
  },
  {
   "cell_type": "markdown",
   "metadata": {},
   "source": [
    "## manipulation of Orf objects\n",
    "Orf objects are used to convert from cycle/pass numbering to actual times (and the other way around).\n",
    "Tables are indexed by times, and this intermediate step is needed when you are working in cycle/pass numbers. "
   ]
  },
  {
   "cell_type": "code",
   "execution_count": 13,
   "metadata": {},
   "outputs": [
    {
     "name": "stdout",
     "output_type": "stream",
     "text": [
      "/data/pprandi/TABLES/DSC/CALAPRO_EN_ORF.dat\n",
      "/data/pprandi/TABLES/DSC/CALAPRO_J1_ORF.dat\n",
      "/data/pprandi/TABLES/DSC/C_AL_ORF.dat\n",
      "/data/pprandi/TABLES/DSC/C_AL_T_ORF.dat\n",
      "/data/pprandi/TABLES/DSC/C_E1_ORF.dat\n",
      "/data/pprandi/TABLES/DSC/C_E1quart_ORF.dat\n",
      "/data/pprandi/TABLES/DSC/C_E210_ORF.dat\n",
      "/data/pprandi/TABLES/DSC/C_E2_ORF.dat\n",
      "/data/pprandi/TABLES/DSC/C_E2quart_ORF.dat\n",
      "/data/pprandi/TABLES/DSC/C_EN10_ORF.dat\n",
      "/data/pprandi/TABLES/DSC/C_ENN_ORF.dat\n",
      "/data/pprandi/TABLES/DSC/C_EN_ORF.dat\n",
      "/data/pprandi/TABLES/DSC/C_ENquart_ORF.dat\n",
      "/data/pprandi/TABLES/DSC/C_G1_ORF.dat\n",
      "/data/pprandi/TABLES/DSC/C_G2_ORF.dat\n",
      "/data/pprandi/TABLES/DSC/C_G2_T_ORF.dat\n",
      "/data/pprandi/TABLES/DSC/C_G2quart_ORF.dat\n",
      "/data/pprandi/TABLES/DSC/C_HC2_ORF.dat\n",
      "/data/pprandi/TABLES/DSC/C_J1_ORF.dat\n",
      "/data/pprandi/TABLES/DSC/C_J1fusion_ORF.dat\n",
      "/data/pprandi/TABLES/DSC/C_J2_ORF.dat\n",
      "/data/pprandi/TABLES/DSC/C_J2_T_ORF.dat\n",
      "/data/pprandi/TABLES/DSC/C_J3_ORF.dat\n",
      "/data/pprandi/TABLES/DSC/C_TPJ1J2_ORF.dat\n",
      "/data/pprandi/TABLES/DSC/C_TP_ORF.dat\n",
      "/data/pprandi/TABLES/DSC/D_AL_FUSION_ORF.dat\n",
      "/data/pprandi/TABLES/DSC/D_AL_ORF.dat\n",
      "/data/pprandi/TABLES/DSC/D_AL_RT_ORF.dat\n",
      "/data/pprandi/TABLES/DSC/D_AL_T_ORF.dat\n",
      "/data/pprandi/TABLES/DSC/D_C2_ORF.dat\n",
      "/data/pprandi/TABLES/DSC/D_E2_ORF.dat\n",
      "/data/pprandi/TABLES/DSC/D_EN_ORF.dat\n",
      "/data/pprandi/TABLES/DSC/D_G2_ORF.dat\n",
      "/data/pprandi/TABLES/DSC/D_J1_ORF.dat\n",
      "/data/pprandi/TABLES/DSC/D_J2N_ORF.dat\n",
      "/data/pprandi/TABLES/DSC/D_J2_ORF.dat\n",
      "/data/pprandi/TABLES/DSC/D_J2_T_ORF.dat\n",
      "/data/pprandi/TABLES/DSC/D_TP_ORF.dat\n",
      "/data/pprandi/TABLES/DSC/I_AL_ORF.dat\n",
      "/data/pprandi/TABLES/DSC/I_AL_T_ORF.dat\n",
      "/data/pprandi/TABLES/DSC/I_E2_ORF.dat\n",
      "/data/pprandi/TABLES/DSC/J2_ORF\n",
      "/data/pprandi/TABLES/DSC/OGDR_AL_RT_ORF.dat\n"
     ]
    }
   ],
   "source": [
    "# which ORF files are available\n",
    "l_orf = sorted(glob.glob(\"%s/*ORF*\" %os.environ['GES_TABLE_DIR']))\n",
    "for i in l_orf:\n",
    "    print(i)"
   ]
  },
  {
   "cell_type": "code",
   "execution_count": 21,
   "metadata": {},
   "outputs": [
    {
     "name": "stdout",
     "output_type": "stream",
     "text": [
      "<type 'octant.data.orf.Orf'>\n"
     ]
    },
    {
     "data": {
      "text/plain": [
       "['__class__',\n",
       " '__delattr__',\n",
       " '__doc__',\n",
       " '__format__',\n",
       " '__getattribute__',\n",
       " '__hash__',\n",
       " '__init__',\n",
       " '__new__',\n",
       " '__reduce__',\n",
       " '__reduce_ex__',\n",
       " '__repr__',\n",
       " '__setattr__',\n",
       " '__sizeof__',\n",
       " '__str__',\n",
       " '__subclasshook__',\n",
       " '_set_mission',\n",
       " 'close',\n",
       " 'create',\n",
       " 'delete_track_info',\n",
       " 'exists',\n",
       " 'find_track_from_date',\n",
       " 'find_track_from_indices',\n",
       " 'first_cycle',\n",
       " 'get_dates_of_cycle',\n",
       " 'identifier',\n",
       " 'last_cycle',\n",
       " 'mission',\n",
       " 'mode',\n",
       " 'passes_per_cycle',\n",
       " 'set_mission',\n",
       " 'version',\n",
       " 'write_track']"
      ]
     },
     "execution_count": 21,
     "metadata": {},
     "output_type": "execute_result"
    }
   ],
   "source": [
    "# lets open one the SARAL/AltiKa [AL] CalVal [C] orf\n",
    "orf = Orf('C_AL')\n",
    "print(type(orf))\n",
    "dir(orf)"
   ]
  },
  {
   "cell_type": "code",
   "execution_count": 17,
   "metadata": {},
   "outputs": [
    {
     "name": "stdout",
     "output_type": "stream",
     "text": [
      "mission: AL\n",
      "passes per cycle: 1002\n"
     ]
    }
   ],
   "source": [
    "# accessing object attributes\n",
    "print(\"mission: %s\" %orf.mission)\n",
    "print(\"passes per cycle: %s\" %orf.passes_per_cycle)"
   ]
  },
  {
   "cell_type": "code",
   "execution_count": 20,
   "metadata": {},
   "outputs": [
    {
     "name": "stdout",
     "output_type": "stream",
     "text": [
      "<type 'octant.data.orf.OrfTrack'>\n"
     ]
    }
   ],
   "source": [
    "# selecting a track knowing its pass/cycle number \n",
    "track = orf.find_track_from_indices(10,1)\n",
    "print(type(track))"
   ]
  },
  {
   "cell_type": "code",
   "execution_count": 22,
   "metadata": {},
   "outputs": [
    {
     "data": {
      "text/plain": [
       "['__class__',\n",
       " '__delattr__',\n",
       " '__doc__',\n",
       " '__format__',\n",
       " '__getattribute__',\n",
       " '__hash__',\n",
       " '__init__',\n",
       " '__new__',\n",
       " '__pyx_vtable__',\n",
       " '__reduce__',\n",
       " '__reduce_ex__',\n",
       " '__repr__',\n",
       " '__setattr__',\n",
       " '__sizeof__',\n",
       " '__str__',\n",
       " '__subclasshook__',\n",
       " 'cycle_number',\n",
       " 'equator_date',\n",
       " 'equator_longitude',\n",
       " 'first_date',\n",
       " 'first_latitude',\n",
       " 'first_longitude',\n",
       " 'last_date',\n",
       " 'last_latitude',\n",
       " 'last_longitude',\n",
       " 'pass_number']"
      ]
     },
     "execution_count": 22,
     "metadata": {},
     "output_type": "execute_result"
    }
   ],
   "source": [
    "# the method returns an OrfTrack object, which has its methods/attributes\n",
    "dir(track)"
   ]
  },
  {
   "cell_type": "code",
   "execution_count": 23,
   "metadata": {},
   "outputs": [
    {
     "name": "stdout",
     "output_type": "stream",
     "text": [
      "cycle: 10 / pass: 1\n"
     ]
    }
   ],
   "source": [
    "# lets check that we've extracted the right track\n",
    "print(\"cycle: %s / pass: %s\" %(track.cycle_number, track.pass_number))"
   ]
  },
  {
   "cell_type": "code",
   "execution_count": 25,
   "metadata": {},
   "outputs": [
    {
     "name": "stdout",
     "output_type": "stream",
     "text": [
      "from 2014-01-23 05:38:26.584208 to 2014-01-23 06:28:44.198222\n"
     ]
    }
   ],
   "source": [
    "# when is that ?\n",
    "start_date = track.first_date\n",
    "stop_date = track.last_date\n",
    "print(\"from %s to %s\" %(start_date, stop_date))"
   ]
  },
  {
   "cell_type": "code",
   "execution_count": 27,
   "metadata": {},
   "outputs": [
    {
     "name": "stdout",
     "output_type": "stream",
     "text": [
      "<class 'octant.date.Datetime'>\n"
     ]
    },
    {
     "data": {
      "text/plain": [
       "['__add__',\n",
       " '__class__',\n",
       " '__delattr__',\n",
       " '__dict__',\n",
       " '__doc__',\n",
       " '__eq__',\n",
       " '__format__',\n",
       " '__ge__',\n",
       " '__getattribute__',\n",
       " '__gt__',\n",
       " '__hash__',\n",
       " '__init__',\n",
       " '__le__',\n",
       " '__lt__',\n",
       " '__module__',\n",
       " '__ne__',\n",
       " '__new__',\n",
       " '__radd__',\n",
       " '__reduce__',\n",
       " '__reduce_ex__',\n",
       " '__repr__',\n",
       " '__rsub__',\n",
       " '__setattr__',\n",
       " '__sizeof__',\n",
       " '__str__',\n",
       " '__sub__',\n",
       " '__subclasshook__',\n",
       " '__weakref__',\n",
       " 'astimezone',\n",
       " 'ceil',\n",
       " 'combine',\n",
       " 'ctime',\n",
       " 'date',\n",
       " 'day',\n",
       " 'dst',\n",
       " 'floor',\n",
       " 'fromdate',\n",
       " 'fromdatetime',\n",
       " 'fromjulianday',\n",
       " 'fromordinal',\n",
       " 'fromtimestamp',\n",
       " 'hour',\n",
       " 'isocalendar',\n",
       " 'isoformat',\n",
       " 'isoweekday',\n",
       " 'julianday',\n",
       " 'max',\n",
       " 'microsecond',\n",
       " 'min',\n",
       " 'minute',\n",
       " 'month',\n",
       " 'now',\n",
       " 'replace',\n",
       " 'resolution',\n",
       " 'second',\n",
       " 'span',\n",
       " 'strftime',\n",
       " 'strptime',\n",
       " 'time',\n",
       " 'timestamp',\n",
       " 'timetuple',\n",
       " 'timetz',\n",
       " 'to',\n",
       " 'today',\n",
       " 'toordinal',\n",
       " 'tzinfo',\n",
       " 'tzname',\n",
       " 'utcfromtimestamp',\n",
       " 'utcnow',\n",
       " 'utcoffset',\n",
       " 'utctimetuple',\n",
       " 'weekday',\n",
       " 'year']"
      ]
     },
     "execution_count": 27,
     "metadata": {},
     "output_type": "execute_result"
    }
   ],
   "source": [
    "# beware: dates are octant.date.Datetime objects, not standard python datetime\n",
    "print(type(start_date))\n",
    "dir(start_date)"
   ]
  },
  {
   "cell_type": "markdown",
   "metadata": {},
   "source": [
    "## accessing the table\n",
    "Now that we know the period of interest, we are actually going to read from the table."
   ]
  },
  {
   "cell_type": "code",
   "execution_count": 44,
   "metadata": {},
   "outputs": [
    {
     "name": "stdout",
     "output_type": "stream",
     "text": [
      "/data/pprandi/TABLES/DSC/TABLE_C_AL_B.dsc\n",
      "/data/pprandi/TABLES/DSC/TABLE_C_AL_T.dsc\n",
      "/data/pprandi/TABLES/DSC/TABLE_C_AL_V.dsc\n",
      "/data/pprandi/TABLES/DSC/TABLE_C_AL_V_ANNEX_RAIN.dsc\n",
      "/data/pprandi/TABLES/DSC/TABLE_C_AL_V_ETUDES.dsc\n",
      "/data/pprandi/TABLES/DSC/TABLE_C_AL_V_SHERPA.dsc\n",
      "/data/pprandi/TABLES/DSC/TABLE_D_AL_B.dsc\n",
      "/data/pprandi/TABLES/DSC/TABLE_D_AL_B_ANNEX.dsc\n",
      "/data/pprandi/TABLES/DSC/TABLE_D_AL_T.dsc\n",
      "/data/pprandi/TABLES/DSC/TABLE_I_AL_B.dsc\n",
      "/data/pprandi/TABLES/DSC/TABLE_I_AL_R.dsc\n",
      "/data/pprandi/TABLES/DSC/TABLE_I_AL_T.dsc\n",
      "/data/pprandi/TABLES/DSC/TABLE_I_AL_V.dsc\n",
      "/data/pprandi/TABLES/DSC/TABLE_I_AL_V_ANNEX.dsc\n",
      "/data/pprandi/TABLES/DSC/TABLE_OCEANO_AL.dsc\n",
      "/data/pprandi/TABLES/DSC/TABLE_OCEANO_AL_MajFES2014.dsc\n",
      "/data/pprandi/TABLES/DSC/TABLE_O_AL_B.dsc\n",
      "/data/pprandi/TABLES/DSC/TABLE_O_AL_B_ANNEX.dsc\n",
      "/data/pprandi/TABLES/DSC/TABLE_T_HAL_B.dsc\n",
      "/data/pprandi/TABLES/DSC/TABLE_T_HAL_B_PEACHI.dsc\n"
     ]
    }
   ],
   "source": [
    "# list available descriptors\n",
    "# remember that we have used a SARAL/AltiKa orf, so to be consistent, we select a SARAL/AltiKa table\n",
    "l_tables = sorted(glob.glob(\"%(GES_TABLE_DIR)s/TABLE_*AL*.dsc\" %os.environ))\n",
    "for i in l_tables:\n",
    "    print(i)"
   ]
  },
  {
   "cell_type": "code",
   "execution_count": 33,
   "metadata": {},
   "outputs": [
    {
     "name": "stdout",
     "output_type": "stream",
     "text": [
      "<type 'octant.data.table.TableMeasure'>\n"
     ]
    }
   ],
   "source": [
    "# create the table object\n",
    "table = TableMeasure(\"TABLE_C_AL_V\")\n",
    "print(type(table))"
   ]
  },
  {
   "cell_type": "code",
   "execution_count": 55,
   "metadata": {},
   "outputs": [
    {
     "name": "stdout",
     "output_type": "stream",
     "text": [
      "containing 156 fields\n",
      "[u'AGC.ALTI', u'AGC_NUMBER.ALTI', u'AGC_STD.ALTI', u'ATMOSPHERIC_ATTENUATION_SIGMA0.ALTI', u'ATMOSPHERIC_ATTENUATION_SIGMA0.MODEL.ECMWF_DIRECT', u'ATMOSPHERIC_PRESSURE.MODEL.ECMWF_GAUSS_SURFACE', u'ATMOSPHERIC_TEMPERATURE_LAPSE_RATE_GAMMA.MODEL.ECMWF', u'BATHYMETRY.MODEL', u'BF_FLUCTUATIONS_CORRECTION.MODEL.ECMWF_GAUSS_NO_S1S2', u'BRIGHTNESS_TEMPERATURE.RAD.CHANNEL02', u'BRIGHTNESS_TEMPERATURE.RAD.CHANNEL02_PATCH3', u'BRIGHTNESS_TEMPERATURE.RAD.CHANNEL03', u'BRIGHTNESS_TEMPERATURE.RAD.CHANNEL03_PATCH3', u'CLOUD_LIQUID_WATER_CONTENT.RAD', u'COASTAL_APPROACH_ANGLE.MODEL.GSHHS', u'CYCLE_NUMBER', u'DISTANCE_CROSS_TRACK.ALTI', u'DISTANCE_SHORELINE.MODEL.ABSOLUTE', u'DISTANCE_SHORELINE.MODEL.ALONG_TRACK', u'DISTANCE_SHORELINE.MODEL.GSHHS', u'DRY_TROPOSPHERIC_CORRECTION.MODEL.ECMWF_GAUSS', u'DYNAMICAL_ATMOSPHERIC_CORRECTION.MODEL.MOG2D_HR', u'FLAG_ACQ.ALTI.ACQUISITION_MODE', u'FLAG_ACQ.ALTI.TRACKING_MODE', u'FLAG_AVAILABILITY.MODEL.MFWAM_MAP', u'FLAG_COASTAL_CONFIGURATION.MODEL', u'FLAG_ICE.ALTI', u'FLAG_ICE.ALTI.D_TROPO_FILTR_ITER', u'FLAG_LAND_SEA.ALTI', u'FLAG_LAND_SEA.RAD', u'FLAG_ORBIT.ALTI', u'FLAG_ORBIT.ALTI.DIODE', u'FLAG_QUAL.ALTI.NET_INSTR_CORR_RANGE', u'FLAG_QUAL.ALTI.NET_INSTR_CORR_SIGMA0', u'FLAG_QUAL.ALTI.NET_INSTR_CORR_SWH', u'FLAG_QUAL.ALTI.OFF_NADIR_ANGLE_PF', u'FLAG_QUAL.ALTI.OFF_NADIR_ANGLE_WF_B1', u'FLAG_QUAL.ALTI.RANGE_B1', u'FLAG_QUAL.ALTI.SIG0_B1', u'FLAG_QUAL.ALTI.SWH_B1', u'FLAG_QUAL.MODEL.DTU15_INTERP', u'FLAG_QUAL.MODEL.FES14B_INTERP', u'FLAG_QUAL.MODEL.GOT4V10_INTERP', u'FLAG_QUAL.MODEL.MDT_CNESCLS13_INTERP', u'FLAG_QUAL.MODEL.MSS_CNESCLS15_INTERP', u'FLAG_QUAL.RAD.BRIGHT_TEMP_CHANNEL02', u'FLAG_QUAL.RAD.BRIGHT_TEMP_CHANNEL02_PATCH3', u'FLAG_QUAL.RAD.BRIGHT_TEMP_CHANNEL03', u'FLAG_QUAL.RAD.BRIGHT_TEMP_CHANNEL03_PATCH3', u'FLAG_QUAL.RAD.GAIN', u'FLAG_QUAL.RAD.INTERP_BRIGHTNESS_TEMPERATURE', u'FLAG_RAIN.ALTI', u'FLAG_SEA_ICE', u'FLAG_SELECTION.ALTI.TABLE', u'FLAG_SNOW_FACIES.ALTI.ICE_SHEET', u'FLAG_SURFACE_TYPE.MODEL.GMT', u'FLAG_SURFACE_TYPE.MODEL.GSHHS', u'FLAG_SURFACE_TYPE.MODEL.LAND_COVER', u'FLAG_TRAILING_EDGE_VARIATION.ALTI', u'FLAG_VAL.ALTI', u'FLAG_VAL.ALTI.COASTAL', u'FLAG_VAL.ALTI.REFERENCE_PRODUCT', u'GEOID_HEIGHT', u'HF_FLUCTUATIONS_CORRECTION.MODEL.ECMWF', u'INTERNAL_WAVE_M2.MODEL.RAY', u'INTERNAL_WAVE_M2.MODEL.ZARON', u'IONOSPHERIC_CORRECTION.MODEL.GIM', u'LATITUDE', u'LOAD_TIDE.MODEL.FES04', u'LOAD_TIDE.MODEL.FES14B', u'LOAD_TIDE.MODEL.GOT4V10', u'LOAD_TIDE.MODEL.GOT4V8', u'LONGITUDE', u'MEAN_ATMOSPHERIC_PRESSURE.MODEL.ECMWF_GAUSS_SURFACE', u'MEAN_DYNAMIC_TOPOGRAPHY.MODEL.CNESCLS09', u'MEAN_DYNAMIC_TOPOGRAPHY.MODEL.CNESCLS13_REF20', u'MEAN_SEA_LEVEL_ANOMALY.ALTI', u'MEAN_SEA_SURFACE.MODEL.CLS01', u'MEAN_SEA_SURFACE.MODEL.CNESCLS11', u'MEAN_SEA_SURFACE.MODEL.CNESCLS11_REF20', u'MEAN_SEA_SURFACE.MODEL.CNESCLS15', u'MEAN_SEA_SURFACE.MODEL.DTU15', u'MEAN_WAVE_DIRECTION.MODEL.MFWAM', u'MEAN_WAVE_PERIOD.MODEL.MFWAM', u'MISSION_NUMBER', u'OCEANIC_BASIN_NUMBER', u'OCEANIC_VARIABILITY', u'OCEAN_TIDE_EQ_LP.MODEL', u'OCEAN_TIDE_EQ_LP.MODEL.FES14B', u'OCEAN_TIDE_HEIGHT.MODEL.FES04', u'OCEAN_TIDE_HEIGHT.MODEL.FES12', u'OCEAN_TIDE_HEIGHT.MODEL.FES14', u'OCEAN_TIDE_HEIGHT.MODEL.FES14B', u'OCEAN_TIDE_HEIGHT.MODEL.GOT4V10', u'OCEAN_TIDE_HEIGHT.MODEL.GOT4V8', u'OCEAN_TIDE_NEQ_LP.MODEL', u'OCEAN_TIDE_NEQ_LP.MODEL.FES14B', u'OFF_NADIR_ANGLE.ALTI', u'OFF_NADIR_ANGLE.PLATFORM.PITCH', u'OFF_NADIR_ANGLE.PLATFORM.ROLL', u'OFF_NADIR_ANGLE.PLATFORM.YAW', u'ORBIT.ALTI', u'ORBIT.ALTI.POE_GDR_E', u'ORBITAL_ALTITUDE_RATE.ALTI', u'ORBIT_ERROR.ALTI.CNES_POE', u'PASS_NUMBER', u'POLE_TIDE_HEIGHT.MODEL.DESAI_2015', u'POLE_TIDE_HEIGHT.MODEL.DESAI_2015_MPL2017', u'POLE_TIDE_HEIGHT.MODEL.WAHR_85', u'RANGE.ALTI', u'RANGE_NET_INSTRUMENTAL_CORRECTION.ALTI', u'RANGE_NUMBER.ALTI', u'RANGE_STD.ALTI', u'SEA_ICE_FRACTION', u'SEA_LEVEL_ANOMALY_BIAS.ALTI', u'SEA_STATE_BIAS.ALTI.NON_PARAMETRIC', u'SEA_STATE_BIAS.ALTI.NON_PARAMETRIC_3D', u'SEA_STATE_BIAS.ALTI.NON_PARAMETRIC_TRAN_2015_2D', u'SEA_SURFACE_HEIGHT.ALTI.INTERP', u'SEA_SURFACE_HEIGHT_ANOMALY.ALTI', u'SEA_SURFACE_TEMPERATURE.MODEL.REYNOLDS', u'SIGMA0.ALTI', u'SIGMA0.ALTI.RTK_MLE3', u'SIGMA0_BIAS.ALTI', u'SIGMA0_NET_INSTRUMENTAL_CORRECTION.ALTI', u'SIGMA0_NUMBER.ALTI', u'SIGMA0_NUMBER.ALTI.RTK_MLE3', u'SIGMA0_STD.ALTI', u'SIGMA0_STD.ALTI.RTK_MLE3', u'SOLID_EARTH_TIDE_HEIGHT.MODEL.CARTWRIGHT_TAYLER_71', u'SQUARE_OFF_NADIR_ANGLE.ALTI', u'SQUARE_OFF_NADIR_ANGLE.PLATFORM', u'SQUARE_OFF_NADIR_ANGLE_MOD_INSTR_CORR.ALTI', u'SQUARE_OFF_NADIR_ANGLE_NUMBER.ALTI', u'SQUARE_OFF_NADIR_ANGLE_STD.ALTI', u'SWH.ALTI', u'SWH_NET_INSTRUMENTAL_CORRECTION.ALTI', u'SWH_NUMBER.ALTI', u'SWH_STD.ALTI', u'TIME.TAI', u'TIME.UTC', u'WATER_VAPOR_CONTENT.RAD', u'WAVEFORM.ALTI.CLASS1', u'WET_TROPOSPHERIC_CORRECTION.COMPOSITE', u'WET_TROPOSPHERIC_CORRECTION.MODEL.ECMWF_GAUSS', u'WET_TROPOSPHERIC_CORRECTION.MODEL.ERA_HR', u'WET_TROPOSPHERIC_CORRECTION.MODEL.ERA_INTERIM', u'WET_TROPOSPHERIC_CORRECTION.RAD', u'WET_TROPOSPHERIC_CORRECTION.RAD.NO_INTERP_PATCH3', u'WET_TROPOSPHERIC_CORRECTION.RAD.PATCH3', u'WIND_SPEED.ALTI', u'WIND_SPEED.MODEL', u'WIND_SPEED.MODEL.ERA_INTERIM', u'WIND_SPEED.MODEL.U_COMP', u'WIND_SPEED.MODEL.V_COMP', u'WIND_SPEED_DIFF.MULTI.MODEL_ALTI']\n"
     ]
    }
   ],
   "source": [
    "# list fields in the table\n",
    "print(\"containing %s fields\" %len(table.fields.names))\n",
    "print(table.fields.names)"
   ]
  },
  {
   "cell_type": "markdown",
   "metadata": {},
   "source": [
    "### reading one measurement at a time\n",
    "May be useful sometimes, but clearly not the most widely used, however this is how things happen under the hood."
   ]
  },
  {
   "cell_type": "code",
   "execution_count": 42,
   "metadata": {},
   "outputs": [
    {
     "name": "stdout",
     "output_type": "stream",
     "text": [
      "None\n"
     ]
    }
   ],
   "source": [
    "# when initializing a table the pointer is not set, whe need to set it to the right position\n",
    "print(table.date)"
   ]
  },
  {
   "cell_type": "code",
   "execution_count": 74,
   "metadata": {},
   "outputs": [
    {
     "name": "stdout",
     "output_type": "stream",
     "text": [
      "2014-01-23 05:43:35.974579\n",
      "(23398, 20615, 974579)\n"
     ]
    }
   ],
   "source": [
    "table.find_next_date(start_date)\n",
    "print(table.date)\n",
    "print(table.date_tuple)"
   ]
  },
  {
   "cell_type": "code",
   "execution_count": 60,
   "metadata": {},
   "outputs": [
    {
     "data": {
      "text/plain": [
       "0.126"
      ]
     },
     "execution_count": 60,
     "metadata": {},
     "output_type": "execute_result"
    }
   ],
   "source": [
    "# lets read SWH for example\n",
    "table.fields['SWH.ALTI'].value"
   ]
  },
  {
   "cell_type": "code",
   "execution_count": 62,
   "metadata": {},
   "outputs": [
    {
     "name": "stdout",
     "output_type": "stream",
     "text": [
      "2014-01-23 05:43:35.974579: 0.126\n",
      "2014-01-23 05:43:37.040082: 2.069\n",
      "2014-01-23 05:43:38.105586: 3.321\n",
      "2014-01-23 05:43:39.171090: 1.608\n",
      "2014-01-23 05:43:40.236594: 0.745\n",
      "2014-01-23 05:43:41.302098: 0.362\n",
      "2014-01-23 05:43:42.367602: 0.344\n",
      "2014-01-23 05:43:43.433105: nan\n",
      "2014-01-23 05:43:44.498609: nan\n",
      "2014-01-23 05:43:45.564113: nan\n"
     ]
    }
   ],
   "source": [
    "# now if we want the ten next measurements\n",
    "for i in range(10):\n",
    "    t = table.date\n",
    "    v = table.fields['SWH.ALTI'].value\n",
    "    print(\"%s: %s\" %(t,v))\n",
    "    table.next_date() "
   ]
  },
  {
   "cell_type": "code",
   "execution_count": 76,
   "metadata": {},
   "outputs": [
    {
     "name": "stdout",
     "output_type": "stream",
     "text": [
      "(23398, 20615, 974579): 0.126\n",
      "(23398, 20617, 40082): 2.069\n",
      "(23398, 20618, 105586): 3.321\n",
      "(23398, 20619, 171090): 1.608\n",
      "(23398, 20620, 236594): 0.745\n",
      "(23398, 20621, 302098): 0.362\n",
      "(23398, 20622, 367602): 0.344\n",
      "(23398, 20623, 433105): nan\n",
      "(23398, 20624, 498609): nan\n",
      "(23398, 20625, 564113): nan\n"
     ]
    }
   ],
   "source": [
    "# or over the ten next seconds,\n",
    "# this is NOT equivalent to the above\n",
    "from octant.date import Timedelta\n",
    "table.find_next_date(start_date)\n",
    "for t in table.iterate(table.date, table.date + Timedelta.parse('10 s')):\n",
    "    v = table.fields['SWH.ALTI'].value\n",
    "    print(\"%s: %s\" %(t,v))"
   ]
  },
  {
   "cell_type": "code",
   "execution_count": 77,
   "metadata": {},
   "outputs": [
    {
     "name": "stdout",
     "output_type": "stream",
     "text": [
      "[((23398, 20615, 974579),  0.126) ((23398, 20617, 40082),  2.069)\n",
      " ((23398, 20618, 105586),  3.321) ((23398, 20619, 171090),  1.608)\n",
      " ((23398, 20620, 236594),  0.745) ((23398, 20621, 302098),  0.362)\n",
      " ((23398, 20622, 367602),  0.344) ((23398, 20623, 433105),    nan)\n",
      " ((23398, 20624, 498609),    nan) ((23398, 20625, 564113),    nan)]\n"
     ]
    }
   ],
   "source": [
    "# or extract the whole time period at once\n",
    "table.find_next_date(start_date)\n",
    "data = table.read_values([\"SWH.ALTI\"], table.date, table.date + Timedelta.parse('10 s'))\n",
    "print(data)"
   ]
  },
  {
   "cell_type": "code",
   "execution_count": null,
   "metadata": {},
   "outputs": [],
   "source": []
  }
 ],
 "metadata": {
  "kernelspec": {
   "display_name": "Python 2",
   "language": "python",
   "name": "python2"
  },
  "language_info": {
   "codemirror_mode": {
    "name": "ipython",
    "version": 2
   },
   "file_extension": ".py",
   "mimetype": "text/x-python",
   "name": "python",
   "nbconvert_exporter": "python",
   "pygments_lexer": "ipython2",
   "version": "2.7.12"
  }
 },
 "nbformat": 4,
 "nbformat_minor": 2
}
